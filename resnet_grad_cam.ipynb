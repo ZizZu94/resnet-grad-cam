{
  "nbformat": 4,
  "nbformat_minor": 0,
  "metadata": {
    "colab": {
      "name": "resnet-grad-cam.ipynb",
      "provenance": [],
      "authorship_tag": "ABX9TyMSexRzKcmnfLtWAgagnpfJ",
      "include_colab_link": true
    },
    "kernelspec": {
      "name": "python3",
      "display_name": "Python 3"
    },
    "language_info": {
      "name": "python"
    }
  },
  "cells": [
    {
      "cell_type": "markdown",
      "metadata": {
        "id": "view-in-github",
        "colab_type": "text"
      },
      "source": [
        "<a href=\"https://colab.research.google.com/github/ZizZu94/resnet-grad-cam/blob/main/resnet_grad_cam.ipynb\" target=\"_parent\"><img src=\"https://colab.research.google.com/assets/colab-badge.svg\" alt=\"Open In Colab\"/></a>"
      ]
    },
    {
      "cell_type": "code",
      "execution_count": null,
      "metadata": {
        "id": "oXbxFMsgsgWh"
      },
      "outputs": [],
      "source": [
        ""
      ]
    }
  ]
}